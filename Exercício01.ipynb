{
  "nbformat": 4,
  "nbformat_minor": 0,
  "metadata": {
    "colab": {
      "provenance": [],
      "authorship_tag": "ABX9TyNVXM4/bmjIeEuBi4CZyxQm",
      "include_colab_link": true
    },
    "kernelspec": {
      "name": "python3",
      "display_name": "Python 3"
    },
    "language_info": {
      "name": "python"
    }
  },
  "cells": [
    {
      "cell_type": "markdown",
      "metadata": {
        "id": "view-in-github",
        "colab_type": "text"
      },
      "source": [
        "<a href=\"https://colab.research.google.com/github/JoaoLuisGit/Atividades/blob/main/Exerc%C3%ADcio01.ipynb\" target=\"_parent\"><img src=\"https://colab.research.google.com/assets/colab-badge.svg\" alt=\"Open In Colab\"/></a>"
      ]
    },
    {
      "cell_type": "code",
      "execution_count": null,
      "metadata": {
        "id": "YT29tPVc_mVA"
      },
      "outputs": [],
      "source": [
        "nome = input ('Escreva seu nome: ')\n",
        "print(f'Nome bonito ein {nome}.')\n",
        "print('Vamos dar processo em nossa atividade!')\n",
        "print(f'Bom {nome} preciso que você digite sua idade no campo abaixo.')\n",
        "\n",
        "\n",
        "idade = int(input ('Escreva sua idade: '))\n",
        "if idade >= 20:\n",
        " print(f'Você está ficando velho! {idade}anos.')\n",
        "elif idade == 18 or idade == 19:\n",
        " print(f'Você tem uma idade razoável! {idade}anos.')\n",
        "else:\n",
        " print(f'Você ainda é novo! {idade}anos.')\n",
        "\n",
        "animal = input(f'Agora preciso saber {nome}, qual seu animal de estimação favorito? ')\n",
        "print(f'Seu animal de estimação é {animal}.')\n",
        "nomeAnimal = input('O nome do animal de estimação é? ')\n",
        "print(f'Lindo nome! {nomeAnimal}!')\n",
        "print('Você tem bom gosto!')\n",
        "print('Muito obrigado e até a próxima!')"
      ]
    },
    {
      "cell_type": "code",
      "source": [],
      "metadata": {
        "id": "csWLGyOoGTDu"
      },
      "execution_count": null,
      "outputs": []
    }
  ]
}